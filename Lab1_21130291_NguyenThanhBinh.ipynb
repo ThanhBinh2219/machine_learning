{
  "nbformat": 4,
  "nbformat_minor": 0,
  "metadata": {
    "colab": {
      "provenance": [],
      "authorship_tag": "ABX9TyPcfbmavhtL8kQ8CIqmygJZ",
      "include_colab_link": true
    },
    "kernelspec": {
      "name": "python3",
      "display_name": "Python 3"
    },
    "language_info": {
      "name": "python"
    }
  },
  "cells": [
    {
      "cell_type": "markdown",
      "metadata": {
        "id": "view-in-github",
        "colab_type": "text"
      },
      "source": [
        "<a href=\"https://colab.research.google.com/github/ThanhBinh2219/machine_learning/blob/main/Lab1_21130291_NguyenThanhBinh.ipynb\" target=\"_parent\"><img src=\"https://colab.research.google.com/assets/colab-badge.svg\" alt=\"Open In Colab\"/></a>"
      ]
    },
    {
      "cell_type": "code",
      "execution_count": null,
      "metadata": {
        "id": "9_oeYDBljfNX",
        "colab": {
          "base_uri": "https://localhost:8080/"
        },
        "outputId": "3b6e8398-492d-42fc-95f3-7419907bd96a"
      },
      "outputs": [
        {
          "output_type": "stream",
          "name": "stdout",
          "text": [
            "Nhập vào số phần tử của list:3\n",
            "Nhập phần tử thứ 1:5\n",
            "Nhập phần tử thứ 2:7\n",
            "Nhập phần tử thứ 3:9\n",
            "Số lớn nhất trong list là: 9\n",
            "Số nhỏ nhất trong list là: 5\n",
            "Tổng phần tử có trong list là:21\n",
            "Số dương có:  3\n",
            "Số âm có:  0\n",
            "List đã sắp xếp:  [5, 7, 9]\n",
            "5 7 9 "
          ]
        }
      ],
      "source": [
        "#task 1.1\n",
        "n = int(input(\"Nhập vào số phần tử của list:\"))\n",
        "lst = []\n",
        "for i in range(1, n + 1):\n",
        "  x = int(input(\"Nhập phần tử thứ \" + str(i) + \":\"))\n",
        "  lst.append(x)\n",
        "\n",
        "maxNum = max(lst)\n",
        "minNum = min(lst)\n",
        "totalNum = sum(lst)\n",
        "asc = sorted(lst)\n",
        "\n",
        "soDuong = 0\n",
        "def timSoDuong(lst):\n",
        "  global soDuong\n",
        "  for i in lst:\n",
        "    if i > 0:\n",
        "      soDuong += 1\n",
        "  return soDuong\n",
        "\n",
        "soAm = 0\n",
        "def timSoAm(lst):\n",
        "  global soAm\n",
        "  for i in lst:\n",
        "    if i < 0:\n",
        "      soAm += 1\n",
        "  return soAm\n",
        "\n",
        "print(\"Số lớn nhất trong list là: \"  + str(maxNum))\n",
        "print(\"Số nhỏ nhất trong list là: \" + str(minNum))\n",
        "print(\"Tổng phần tử có trong list là: \" + str(totalNum))\n",
        "print(\"Số dương có: \" , timSoDuong(lst))\n",
        "print(\"Số âm có: \", timSoAm(lst))\n",
        "print(\"List đã sắp xếp: \", asc)\n"
      ]
    },
    {
      "cell_type": "code",
      "source": [
        "#task 1.2\n",
        "n = int(input(\"Nhập số nguyên n: \"))\n",
        "def tinhTongS(n):\n",
        "  if (n == 1):\n",
        "    return 1\n",
        "  else:\n",
        "    return n * tinhTongS(n - 1)\n",
        "\n",
        "print(f\"Tổng S: \", tinhTongS(n))"
      ],
      "metadata": {
        "colab": {
          "base_uri": "https://localhost:8080/"
        },
        "id": "qbLr766yzsDa",
        "outputId": "b1d38657-444e-4b77-d5ef-a5ec6f90b913"
      },
      "execution_count": null,
      "outputs": [
        {
          "output_type": "stream",
          "name": "stdout",
          "text": [
            "Nhập số nguyên n: 5\n",
            "Tổng S:  120\n"
          ]
        }
      ]
    },
    {
      "cell_type": "code",
      "source": [
        "#task 1.3\n",
        "from  datetime import datetime\n",
        "class Post:\n",
        "    def __init__(self, content: str, subject: str, likes: int):\n",
        "        self.__content = content\n",
        "        self.__subject = subject\n",
        "        self.__likes = likes\n",
        "\n",
        "    def get_content(self):\n",
        "        return self.__content\n",
        "\n",
        "    def get_subject(self):\n",
        "        return self.__subject\n",
        "\n",
        "    def get_likes(self):\n",
        "        return self.__likes\n",
        "\n",
        "\n",
        "class Account:\n",
        "    def __init__(self, name: str, email: str, country: str):\n",
        "        self.__name = name\n",
        "        self.__email = email\n",
        "        self.__country = country\n",
        "        self.__accounts = []\n",
        "        self.__posts = []\n",
        "\n",
        "    def get_name(self):\n",
        "        return self.__name\n",
        "\n",
        "    def get_email(self):\n",
        "        return self.__email\n",
        "\n",
        "    def get_country(self):\n",
        "        return self.__country\n",
        "\n",
        "    def get_accounts(self):\n",
        "        return self.__accounts\n",
        "\n",
        "    def get_post(self):\n",
        "        return self.__posts\n",
        "\n",
        "    def add_post(self, post):\n",
        "        self.__posts.append(post)\n",
        "\n",
        "    def add_account(self, account):\n",
        "        self.__accounts.append(account)\n",
        "\n",
        "    def get_max_like_post_by_friend(self):\n",
        "        list_post_max_like = []\n",
        "        for friend in self.get_accounts():\n",
        "            max_likes_post = None\n",
        "            max_likes = 0\n",
        "            for post in friend.get_post():\n",
        "                if post.get_likes() > max_likes:\n",
        "                    max_likes = post.get_likes()\n",
        "                    max_likes_post = post\n",
        "            if max_likes_post:\n",
        "                list_post_max_like.append((friend, max_likes_post))\n",
        "        max_likes_friend = None\n",
        "        max_likes_post = None\n",
        "        max_likes = 0\n",
        "        for friend, post in list_post_max_like:\n",
        "            if post.get_likes() > max_likes:\n",
        "                max_likes = post.get_likes()\n",
        "                max_likes_friend = friend\n",
        "                max_likes_post = post\n",
        "        return max_likes_friend, max_likes_post\n",
        "\n",
        "\n",
        "class AccountManager:\n",
        "    def __init__(self):\n",
        "        self.__accounts = []\n",
        "\n",
        "    def get_accounts(self):\n",
        "        return self.__accounts\n",
        "\n",
        "    def add_account(self, account):\n",
        "        self.__accounts.append(account)\n",
        "\n",
        "    def group_accounts_by_post_like(self):\n",
        "        result = {True: [], False: []}\n",
        "        for account in self.get_accounts():\n",
        "            if len(account.get_post()) < 5:\n",
        "                result[False].append(account)\n",
        "            else:\n",
        "                result[True].append(account)\n",
        "        return result\n",
        "\n",
        "    def filter_accounts(self, country: str):\n",
        "        filter_accounts = [account for account in self.__accounts if account.get_country() == country]\n",
        "        filter_accounts.sort(key=lambda account: (-len(account.get_post()), account.get_name()))\n",
        "        return filter_accounts\n",
        "\n",
        "class VerifiedAccount(Account):\n",
        "    def __init__(self, name: str, email: str, country: str, fromDate: datetime):\n",
        "        super().__init__(name, email, country)\n",
        "        self.__fromDate = fromDate\n",
        "\n",
        "    def get_from_date(self):\n",
        "        return self.__fromDate\n",
        "\n",
        "\n",
        "class NormalAccount(Account):\n",
        "    pass\n",
        "\n",
        "\n",
        "\n",
        "\n",
        "# Tạo các đối tượng Post\n",
        "post1 = Post(\"Cần ai đó đưa đi chơi\", \"8/3\", 180)\n",
        "post2 = Post(\"8/3, ai đó tặng hoa cho tôi đi\", \"8/3\", 195)\n",
        "post3 = Post(\"Không muốn đi học đâu, hihi\", \"Học hành\", 209)\n",
        "post4 = Post(\"Không muốn yêu thêm một ai nữa\", \"Tình cảm\", 275)\n",
        "post5 = Post(\"Anh chỉ là kẻ đến sau, tạm biệt em\", \"Tình cảm\", 309)\n",
        "post6 = Post(\"Xin lỗi vì những cuộc điện thoại\", \"Tình cảm\", 3107)\n",
        "post7 = Post(\"Cô đơn trong đêm\", \"Tình cảm\", 72937)\n",
        "post8 = Post(\"Yêu em\", \"Tình cảm\", 763)\n",
        "\n",
        "# Tạo các đối tượng Account và thêm bài đăng cho mỗi tài khoản\n",
        "account1 = Account(\"Hoàng tử si tình\", \"hoanganh365@gmail.com\", \"Việt Nam\")\n",
        "account1.add_post(post1)\n",
        "account1.add_post(post2)\n",
        "account1.add_post(post3)\n",
        "account1.add_post(post4)\n",
        "account1.add_post(post5)\n",
        "\n",
        "account2 = Account(\"Cô bé's ngốk\", \"cobengok_123@hotmail.com\", \"Việt Nam\")\n",
        "account2.add_post(post3)\n",
        "account2.add_post(post4)\n",
        "\n",
        "account3 = Account(\"Lãnh's Hàn's Thanh's Bình's\", \"lkqtg@hotmail.com\", \"Việt Nam\")\n",
        "account3.add_post(post5)\n",
        "account3.add_post(post6)\n",
        "\n",
        "# thêm tài khoản bạn bè\n",
        "account1.add_account(account2)\n",
        "account1.add_account(account3)\n",
        "account3.add_account(account2)\n",
        "account2.add_account(account1)\n",
        "\n",
        "# Tạo đối tượng AccountManager và thêm tài khoản vào đó\n",
        "account_manager = AccountManager()\n",
        "account_manager.add_account(account1)\n",
        "account_manager.add_account(account2)\n",
        "account_manager.add_account(account3)\n",
        "\n",
        "# Kiểm tra hàm get_max_like_post_by_friend\n",
        "print(\"===============================================================\")\n",
        "print(\"Kiểm tra hàm get_max_like_post_by_friend\")\n",
        "max_likes_friend, max_likes_post = account1.get_max_like_post_by_friend()\n",
        "print(\"Bài đăng có số lượt thích cao nhất của bạn bè là:\", max_likes_post.get_content())\n",
        "print(\"Người bạn có bài đăng đó là:\", max_likes_friend.get_name())\n",
        "\n",
        "# Kiểm tra hàm group_accounts_by_post_like\n",
        "print(\"===============================================================\")\n",
        "print(\"Kiểm tra hàm group_accounts_by_post_like\")\n",
        "group_account = account_manager.group_accounts_by_post_like()\n",
        "print(\"Số lượng tài khoản có ít bài đăng là:\", len(group_account[False]))\n",
        "print('Số lượng tài khoản có nhiều bài đăng là:', len(group_account[True]))\n",
        "# kiểm tra hàm filter_accounts\n",
        "print(\"===============================================================\")\n",
        "print(\"Kiểm tra hàm filter_accounts\")\n",
        "filtered_accounts = account_manager.filter_accounts(\"Việt Nam\")\n",
        "print(\"Danh sách các tài khoản từ Việt Nam, sắp xếp theo số lượng bài đăng giảm dần và tên tăng dần:\")\n",
        "for account in filtered_accounts:\n",
        "    print(account.get_name(), \":\", len(account.get_post()), \"bài đăng\")\n"
      ],
      "metadata": {
        "id": "J5nrwnDv3-Tl",
        "colab": {
          "base_uri": "https://localhost:8080/"
        },
        "outputId": "5dac8711-d559-44e4-dc8a-43592b9af7c7"
      },
      "execution_count": 3,
      "outputs": [
        {
          "output_type": "stream",
          "name": "stdout",
          "text": [
            "===============================================================\n",
            "Kiểm tra hàm get_max_like_post_by_friend\n",
            "Bài đăng có số lượt thích cao nhất của bạn bè là: Xin lỗi vì những cuộc điện thoại\n",
            "Người bạn có bài đăng đó là: Lãnh's Hàn's Thanh's Bình's\n",
            "===============================================================\n",
            "Kiểm tra hàm group_accounts_by_post_like\n",
            "Số lượng tài khoản có ít bài đăng là: 2\n",
            "Số lượng tài khoản có nhiều bài đăng là: 1\n",
            "===============================================================\n",
            "Kiểm tra hàm filter_accounts\n",
            "Danh sách các tài khoản từ Việt Nam, sắp xếp theo số lượng bài đăng giảm dần và tên tăng dần:\n",
            "Hoàng tử si tình : 5 bài đăng\n",
            "Cô bé's ngốk : 2 bài đăng\n",
            "Lãnh's Hàn's Thanh's Bình's : 2 bài đăng\n"
          ]
        }
      ]
    },
    {
      "cell_type": "markdown",
      "source": [
        "# **TASK 2**"
      ],
      "metadata": {
        "id": "TBJamIF5sjDZ"
      }
    },
    {
      "cell_type": "code",
      "source": [
        "#task 2.1\n",
        "import numpy as np\n",
        "\n",
        "arr = np.arange(10, 26)\n",
        "reverse_lst = list(reversed(arr))\n",
        "print(reverse_lst)\n"
      ],
      "metadata": {
        "colab": {
          "base_uri": "https://localhost:8080/"
        },
        "id": "ybP7k5doi_6E",
        "outputId": "da954165-1181-461f-c6a3-a391223626bc"
      },
      "execution_count": 4,
      "outputs": [
        {
          "output_type": "stream",
          "name": "stdout",
          "text": [
            "[25, 24, 23, 22, 21, 20, 19, 18, 17, 16, 15, 14, 13, 12, 11, 10]\n"
          ]
        }
      ]
    },
    {
      "cell_type": "code",
      "source": [
        "#task 2.2\n",
        "arr2 = np.array([1, 2, 3, 4])\n",
        "print(\"Original array:\", arr2)\n",
        "repeat2 = np.tile(arr2, 2)\n",
        "print(\"Repeating 2 times:\", repeat2)\n",
        "repeat3 = np.tile(arr2, 3)\n",
        "print(\"Repeating 3 times:\", repeat3)"
      ],
      "metadata": {
        "colab": {
          "base_uri": "https://localhost:8080/"
        },
        "id": "cv-F5BDwly8Q",
        "outputId": "b7bd296b-7a41-4177-edcd-2cee6faab389"
      },
      "execution_count": 7,
      "outputs": [
        {
          "output_type": "stream",
          "name": "stdout",
          "text": [
            "Original array: [1 2 3 4]\n",
            "Repeating 2 times: [1 2 3 4 1 2 3 4]\n",
            "Repeating 3 times: [1 2 3 4 1 2 3 4 1 2 3 4]\n"
          ]
        }
      ]
    },
    {
      "cell_type": "code",
      "source": [
        "#task 2.3\n",
        "arr3 = np.array([[ 0.42, 0.48, 0.32],[ 0.74, 0.58, 0.38],[ 0.51, 0.34, 0.15 ]])\n",
        "arr3[arr3 > 0.5] = 0.5\n",
        "print(arr3)"
      ],
      "metadata": {
        "colab": {
          "base_uri": "https://localhost:8080/"
        },
        "id": "-M1HBQvgpQpb",
        "outputId": "cd3d281a-1ab0-4f24-cb3a-ff2c3ef59a7f"
      },
      "execution_count": 8,
      "outputs": [
        {
          "output_type": "stream",
          "name": "stdout",
          "text": [
            "[[0.42 0.48 0.32]\n",
            " [0.5  0.5  0.38]\n",
            " [0.5  0.34 0.15]]\n"
          ]
        }
      ]
    }
  ]
}