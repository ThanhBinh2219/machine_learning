{
  "nbformat": 4,
  "nbformat_minor": 0,
  "metadata": {
    "colab": {
      "provenance": [],
      "authorship_tag": "ABX9TyPVb+PD9IPyfVNnzZowRGYX",
      "include_colab_link": true
    },
    "kernelspec": {
      "name": "python3",
      "display_name": "Python 3"
    },
    "language_info": {
      "name": "python"
    }
  },
  "cells": [
    {
      "cell_type": "markdown",
      "metadata": {
        "id": "view-in-github",
        "colab_type": "text"
      },
      "source": [
        "<a href=\"https://colab.research.google.com/github/ThanhBinh2219/machine_learning/blob/main/Lab1.ipynb\" target=\"_parent\"><img src=\"https://colab.research.google.com/assets/colab-badge.svg\" alt=\"Open In Colab\"/></a>"
      ]
    },
    {
      "cell_type": "code",
      "execution_count": 21,
      "metadata": {
        "id": "9_oeYDBljfNX",
        "colab": {
          "base_uri": "https://localhost:8080/"
        },
        "outputId": "3b6e8398-492d-42fc-95f3-7419907bd96a"
      },
      "outputs": [
        {
          "output_type": "stream",
          "name": "stdout",
          "text": [
            "Nhập vào số phần tử của list:3\n",
            "Nhập phần tử thứ 1:5\n",
            "Nhập phần tử thứ 2:7\n",
            "Nhập phần tử thứ 3:9\n",
            "Số lớn nhất trong list là: 9\n",
            "Số nhỏ nhất trong list là: 5\n",
            "Tổng phần tử có trong list là:21\n",
            "Số dương có:  3\n",
            "Số âm có:  0\n",
            "List đã sắp xếp:  [5, 7, 9]\n",
            "5 7 9 "
          ]
        }
      ],
      "source": [
        "#task 1.1\n",
        "n = int(input(\"Nhập vào số phần tử của list:\"))\n",
        "lst = []\n",
        "for i in range(1, n + 1):\n",
        "  x = int(input(\"Nhập phần tử thứ \" + str(i) + \":\"))\n",
        "  lst.append(x)\n",
        "\n",
        "maxNum = max(lst)\n",
        "minNum = min(lst)\n",
        "totalNum = sum(lst)\n",
        "asc = sorted(lst)\n",
        "\n",
        "soDuong = 0\n",
        "def timSoDuong(lst):\n",
        "  global soDuong\n",
        "  for i in lst:\n",
        "    if i > 0:\n",
        "      soDuong += 1\n",
        "  return soDuong\n",
        "\n",
        "soAm = 0\n",
        "def timSoAm(lst):\n",
        "  global soAm\n",
        "  for i in lst:\n",
        "    if i < 0:\n",
        "      soAm += 1\n",
        "  return soAm\n",
        "\n",
        "print(\"Số lớn nhất trong list là: \"  + str(maxNum))\n",
        "print(\"Số nhỏ nhất trong list là: \" + str(minNum))\n",
        "print(\"Tổng phần tử có trong list là: \" + str(totalNum))\n",
        "print(\"Số dương có: \" , timSoDuong(lst))\n",
        "print(\"Số âm có: \", timSoAm(lst))\n",
        "print(\"List đã sắp xếp: \", asc)\n"
      ]
    },
    {
      "cell_type": "code",
      "source": [
        "#task 1.2\n",
        "n = int(input(\"Nhập số nguyên n: \"))\n",
        "def tinhTongS(n):\n",
        "  if (n == 1):\n",
        "    return 1\n",
        "  else:\n",
        "    return n * tinhTongS(n - 1)\n",
        "\n",
        "print(f\"Tổng S: \", tinhTongS(n))"
      ],
      "metadata": {
        "colab": {
          "base_uri": "https://localhost:8080/"
        },
        "id": "qbLr766yzsDa",
        "outputId": "b1d38657-444e-4b77-d5ef-a5ec6f90b913"
      },
      "execution_count": 23,
      "outputs": [
        {
          "output_type": "stream",
          "name": "stdout",
          "text": [
            "Nhập số nguyên n: 5\n",
            "Tổng S:  120\n"
          ]
        }
      ]
    }
  ]
}